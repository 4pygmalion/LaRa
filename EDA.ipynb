{
 "cells": [
  {
   "cell_type": "code",
   "execution_count": 1,
   "metadata": {},
   "outputs": [],
   "source": [
    "%load_ext autoreload\n",
    "%autoreload 2"
   ]
  },
  {
   "cell_type": "code",
   "execution_count": 2,
   "metadata": {},
   "outputs": [],
   "source": [
    "# data load\n",
    "import os\n",
    "import sys\n",
    "import torch\n",
    "from sklearn.model_selection import train_test_split\n",
    "\n",
    "ROOT_DIR = \"/data/tyler_dev/working_dir/sym/symptom_similarity\"\n",
    "DATA_DIR = os.path.join(ROOT_DIR, \"data\")\n",
    "sys.path.append(ROOT_DIR)\n",
    "from core.io_ops import load_pickle\n",
    "from core.data_model import Patients\n",
    "from core.augmentation import cleanse_data\n",
    "\n",
    "disease_data = load_pickle(os.path.join(DATA_DIR, \"diseases.pickle\"))\n",
    "patient_data = load_pickle(os.path.join(DATA_DIR, \"patients.pickle\"))\n",
    "disease_data, patient_data = cleanse_data(disease_data, patient_data)\n",
    "all_symptom_vectors = torch.tensor(\n",
    "    disease_data.all_symptom_vectors, dtype=torch.float32\n",
    ")\n",
    "\n",
    "train_val_patients_list, test_patients_list = train_test_split(\n",
    "    patient_data.data, random_state=2023\n",
    ")\n",
    "train_patients_list, val_patients_list = train_test_split(\n",
    "    train_val_patients_list, random_state=2023\n",
    ")\n",
    "train_patients = Patients(train_patients_list)\n",
    "val_patients = Patients(val_patients_list)\n",
    "test_patients = Patients(test_patients_list)"
   ]
  },
  {
   "cell_type": "markdown",
   "metadata": {},
   "source": [
    "### 최근 연구\n"
   ]
  },
  {
   "cell_type": "code",
   "execution_count": null,
   "metadata": {},
   "outputs": [],
   "source": [
    "import json\n",
    "with open(\"/data/tyler_dev/working_dir/sym/lin_similarity_matrix.json\", \"r\") as f:\n",
    "    similarity_matrix = json.load(f)"
   ]
  },
  {
   "cell_type": "code",
   "execution_count": null,
   "metadata": {},
   "outputs": [],
   "source": [
    "# 식 참고해서 계산\n",
    "# t in P, t` in D\n",
    "# s_p = sum_p(max_d(sim(t, t`))*IC(t)) / sum(IC(t))\n",
    "# s_pd = (sum_p(max_d(sim(t, t`))*IC(t)) + sum_d(max_p(sim(t, t`))*IC(t`))) /  (sum(IC(t)) + sum(IC(t`)))\n",
    "\n",
    "\n",
    "def get_sym(patient, disease):\n",
    "    sum_sym = 0.\n",
    "    sum_ic = 0.\n",
    "    for p_sym in patient.hpos:\n",
    "        max_sim = 0.\n",
    "        for d_sym in disease.hpos:\n",
    "            try:\n",
    "                score = similarity_matrix[p_sym.id][d_sym.id] \n",
    "            except:\n",
    "                score = 0 \n",
    "                \n",
    "            if score > max_sim:\n",
    "                max_sim = score\n",
    "\n",
    "        sum_sym += max_sim * p_sym.ic\n",
    "        sum_ic += p_sym.ic\n",
    "    \n",
    "    return sum_sym, sum_ic\n",
    "\n",
    "\n",
    "def get_pheno2disease(patient, disease):\n",
    "    sum_sym_p, sum_ic_p = get_sym(patient, disease)\n",
    "    sum_sym_d, sum_ic_d = get_sym(disease, patient)\n",
    "    sym_pd = (sum_sym_p+sum_sym_d) / (sum_ic_p + sum_ic_d)\n",
    "\n",
    "    pheno2disease = sym_pd + (sum_sym_p/sum_ic_p)\n",
    "\n",
    "    return pheno2disease\n"
   ]
  },
  {
   "cell_type": "markdown",
   "metadata": {},
   "source": [
    "### model based"
   ]
  },
  {
   "cell_type": "code",
   "execution_count": null,
   "metadata": {},
   "outputs": [
    {
     "name": "stderr",
     "output_type": "stream",
     "text": [
      "/data/tyler_dev/anaconda3/envs/sym_sim_gu/lib/python3.10/site-packages/torch/nn/modules/transformer.py:282: UserWarning: enable_nested_tensor is True, but self.use_nested_tensor is False because encoder_layer.self_attn.batch_first was not True(use batch_first for better inference performance)\n",
      "  warnings.warn(f\"enable_nested_tensor is True, but self.use_nested_tensor is False because {why_not_sparsity_fast_path}\")\n"
     ]
    }
   ],
   "source": [
    "from core.datasets import (\n",
    "    StochasticPairwiseDataset,\n",
    "    collate_for_stochastic_pairwise_eval,\n",
    ")\n",
    "from torch.utils.data import DataLoader\n",
    "\n",
    "# 현재 최고 모델\n",
    "from core.networks import Transformer\n",
    "\n",
    "params = {\n",
    "    \"output_size\": 128,\n",
    "    \"hidden_dim\": 2048,\n",
    "    \"input_size\": 1536,\n",
    "    \"n_layers\": 32,\n",
    "    \"nhead\": 32,\n",
    "    \"batch_first\": False,\n",
    "}\n",
    "best_model = Transformer(**params)\n",
    "best_model.load_state_dict(\n",
    "    torch.load(\n",
    "        \"/data/tyler_dev/working_dir/sym/symptom_similarity/data/81fcf4f39e57422db4debfeac61b01f0/val_top100_0.584.ckpt\"\n",
    "    )\n",
    ")\n",
    "best_model.eval()\n",
    "best_model = best_model.cuda()\n",
    "\n",
    "test_dataset = StochasticPairwiseDataset(\n",
    "    test_patients,\n",
    "    disease_data,\n",
    "    max_len=15,\n",
    ").validate()\n",
    "\n",
    "test_dataloader = DataLoader(\n",
    "    test_dataset,\n",
    "    batch_size=1,\n",
    "    num_workers=0,\n",
    "    collate_fn=collate_for_stochastic_pairwise_eval,\n",
    "    shuffle=False,\n",
    "    pin_memory=True,\n",
    ")"
   ]
  },
  {
   "cell_type": "code",
   "execution_count": null,
   "metadata": {},
   "outputs": [
    {
     "name": "stderr",
     "output_type": "stream",
     "text": [
      "Making all disease vectors...: 100%|██████████| 8181/8181 [02:03<00:00, 66.34it/s]\n"
     ]
    }
   ],
   "source": [
    "import numpy as np\n",
    "from collections import defaultdict\n",
    "from tqdm import tqdm\n",
    "from core_3asc.metric import topk_recall\n",
    "\n",
    "\n",
    "cached_vector = {}\n",
    "whole_disease = test_dataset.disease_tensors\n",
    "with torch.no_grad():\n",
    "    with tqdm(\n",
    "        total=len(whole_disease),\n",
    "        position=0,\n",
    "        leave=True,\n",
    "        desc=\"Making all disease vectors...\",\n",
    "    ) as pbar:\n",
    "        for id_, tensor in whole_disease.items():\n",
    "            cached_vector[id_] = best_model(tensor.cuda()).squeeze(0)\n",
    "            pbar.update(1)"
   ]
  },
  {
   "cell_type": "code",
   "execution_count": null,
   "metadata": {},
   "outputs": [],
   "source": [
    "from core.augmentation import (\n",
    "    TruncateOrPad,\n",
    ")\n",
    "\n",
    "padder = TruncateOrPad(\n",
    "            15, stochastic=False, weighted_sampling=True\n",
    "        )\n",
    "\n",
    "def get_score_from_model(patient, disease):\n",
    "    with torch.no_grad():\n",
    "        input_src = padder(\n",
    "            torch.tensor(patient.hpos.vector, dtype=torch.float32, device=\"cuda:0\"), patient\n",
    "        )\n",
    "\n",
    "        input_vector = best_model(input_src)\n",
    "        target_vector = cached_vector[disease.id]\n",
    "        scores = (\n",
    "            torch.nn.functional.cosine_similarity(\n",
    "                input_vector, target_vector\n",
    "            )\n",
    "            .squeeze(-1)\n",
    "            .detach()\n",
    "            .cpu()\n",
    "            .numpy()\n",
    "        )\n",
    "\n",
    "        del input_src\n",
    "        del input_vector\n",
    "        torch.cuda.empty_cache()\n",
    "\n",
    "        return scores\n",
    "\n",
    "def get_att_weight(disease):\n",
    "    with torch.no_grad():\n",
    "        input_src = padder(\n",
    "            torch.tensor(disease.hpos.vector, dtype=torch.float32).cuda(), disease\n",
    "        )\n",
    "        return best_model.get_att_weight(input_src)"
   ]
  },
  {
   "cell_type": "markdown",
   "metadata": {},
   "source": [
    "### 사내 시스템"
   ]
  },
  {
   "cell_type": "code",
   "execution_count": null,
   "metadata": {},
   "outputs": [
    {
     "name": "stderr",
     "output_type": "stream",
     "text": [
      "/data/tyler_dev/working_dir/sym/SemanticSimilarity/calculator.py:102: UnicodeWarning: unsound encoding, assuming ISO-8859-1 (73% confidence)\n",
      "  self.hpo_ontology = pronto.Ontology(\n"
     ]
    }
   ],
   "source": [
    "from omegaconf import OmegaConf\n",
    "from SemanticSimilarity.calculator import NodeLevelSimilarityCalculator\n",
    "\n",
    "conf = OmegaConf.load(\"/data/tyler_dev/working_dir/sym/SemanticSimilarity/config.yaml\")\n",
    "# 원본 알고리즘 이용한 계산\n",
    "tb_cal = NodeLevelSimilarityCalculator(conf)\n",
    "tb_cal.set_level()\n",
    "tb_cal.set_mica_mat()"
   ]
  },
  {
   "cell_type": "code",
   "execution_count": null,
   "metadata": {},
   "outputs": [],
   "source": [
    "from SemanticSimilarity.data_model import Phenotype\n",
    "\n",
    "def calculate_score(p, d):\n",
    "    node_level = {}\n",
    "    node_level[p.id] = {}\n",
    "    p_syms = {Phenotype(id_, name) for id_, name in zip(p.hpos.id2hpo.keys(), p.hpos.name2hpo.keys())}\n",
    "    d_syms = {Phenotype(id_, name) for id_, name in zip(d.hpos.id2hpo.keys(), d.hpos.name2hpo.keys())}\n",
    "    score = tb_cal.get_semantic_similarity(p_syms, d_syms)\n",
    "    return score"
   ]
  },
  {
   "cell_type": "markdown",
   "metadata": {},
   "source": [
    "### 비교평가"
   ]
  },
  {
   "cell_type": "code",
   "execution_count": null,
   "metadata": {},
   "outputs": [],
   "source": [
    "np.random.seed(42)\n",
    "\n",
    "# 사내 기진단 환자에서 랜덤하게 평가 대상을 샘플링\n",
    "n_patients = 300\n",
    "p_samples = np.random.choice(range(len(test_dataloader)), n_patients).tolist()"
   ]
  },
  {
   "cell_type": "code",
   "execution_count": null,
   "metadata": {},
   "outputs": [],
   "source": [
    "# 사내 기진단 환자에서 진단 빈도가 상위인 질병을 샘플링  \n",
    "n_top_confirmed_disease = 500\n",
    "\n",
    "cnt_disease = defaultdict(int)\n",
    "for p_data in patient_data:\n",
    "    for d in list(p_data.disease_ids):\n",
    "        cnt_disease[d] += 1\n",
    "\n",
    "sorted_dict_desc = dict(sorted(cnt_disease.items(), key=lambda item: item[1], reverse=True))\n",
    "d_samples = list(sorted_dict_desc.keys())[:n_top_confirmed_disease]"
   ]
  },
  {
   "cell_type": "code",
   "execution_count": null,
   "metadata": {},
   "outputs": [],
   "source": [
    "\"\"\"\n",
    "질병 데이터와 환자 데이터 중 쓸 수 없는 데이터를 아래의 기준으로 필터링\n",
    "\n",
    "- 질병 데이터\n",
    "    - OMIM이 아닌(ORPHA)등의 id를 가진 증상을 하나라도 가질 경우 \n",
    "\n",
    "- 환자 데이터\n",
    "    - 아래의 네가지 조건을 기준으로 필터링\n",
    "\n",
    "        - zero_symptom: 기록된 증상이 하나도 없는 경우\n",
    "        - too_many_symptom: 기록된 증상이 50개를 초과하는 경우 (가끔 매우 많이 들어오는 환자가 있어요)\n",
    "        - disease_id_missing: 기록된 진단 질병명이 없는 경우 \n",
    "        - not_in_hpo_db: [HPO_VERSION = \"v2023-10-09\"]에서 포함되지 않는 증상이 있는 경우\n",
    "\"\"\"\n",
    "disease_data_sample, patient_data_sample = cleanse_data(disease_data[d_samples], patient_data[p_samples])"
   ]
  },
  {
   "cell_type": "code",
   "execution_count": null,
   "metadata": {},
   "outputs": [],
   "source": [
    "# 해당 함수는 3asc에서 사용하던 평가 방식인데요,\n",
    "# 추천시스템 분야에서 자주쓰이는 평가방식이고\n",
    "# 해당분야에서는 \"Hit@k\"로 불립니다.(검색하려면 해당 키워드로 접급해야되요, cf.recall@k) \n",
    " \n",
    "from core_3asc.metric import topk_recall\n",
    "\n",
    "\n",
    "result = []\n",
    "for p in tqdm(patient_data_sample):\n",
    "    onehot_vec = np.zeros((len(disease_data_sample), ))\n",
    "    \n",
    "    scores_base = np.zeros((len(disease_data_sample), ))\n",
    "    scores_pd = np.zeros((len(disease_data_sample), ))\n",
    "    scores_model = np.zeros((len(disease_data_sample), ))\n",
    "\n",
    "\n",
    "    for i, d in enumerate(disease_data_sample):\n",
    "        if d.id in p.disease_ids:\n",
    "            onehot_vec[i] = 1\n",
    "\n",
    "        scores_base[i] = calculate_score(p, d)\n",
    "        scores_pd[i] = get_pheno2disease(p, d)\n",
    "        scores_model[i] = get_score_from_model(p, d)\n",
    "    \n",
    "    result.append({\n",
    "        \"p_id\": p.id, \n",
    "        \"scores_base\": scores_base, \n",
    "        \"scores_pd\": scores_pd, \n",
    "        \"scores_model\": scores_model, \n",
    "\n",
    "       \"top_1_base\": topk_recall(scores_base, onehot_vec, k=1),\n",
    "        \"top_1_pd\": topk_recall(scores_pd, onehot_vec, k=1),\n",
    "        \"top_1_model\": topk_recall(scores_model, onehot_vec, k=1),\n",
    "\n",
    "        \"top_10_base\": topk_recall(scores_base, onehot_vec, k=10),\n",
    "        \"top_10_pd\": topk_recall(scores_pd, onehot_vec, k=10),\n",
    "        \"top_10_model\": topk_recall(scores_model, onehot_vec, k=10),\n",
    "\n",
    "        \"top_50_base\": topk_recall(scores_base, onehot_vec, k=50),\n",
    "        \"top_50_pd\": topk_recall(scores_pd, onehot_vec, k=50),\n",
    "        \"top_50_model\": topk_recall(scores_model, onehot_vec, k=50),\n",
    "\n",
    "        \"top_100_base\": topk_recall(scores_base, onehot_vec, k=100),\n",
    "        \"top_100_pd\": topk_recall(scores_pd, onehot_vec, k=100),\n",
    "        \"top_100_model\": topk_recall(scores_model, onehot_vec, k=100),\n",
    "        \n",
    "    })"
   ]
  },
  {
   "cell_type": "code",
   "execution_count": null,
   "metadata": {},
   "outputs": [
    {
     "name": "stdout",
     "output_type": "stream",
     "text": [
      "                   top1     top10     top50    top100\n",
      "Method                                               \n",
      "baseline       0.117647  0.486631  0.754011  0.871658\n",
      "Pheno2Disease  0.117647  0.427807  0.721925  0.834225\n",
      "LLM-based      0.219251  0.513369  0.855615  0.919786\n"
     ]
    }
   ],
   "source": [
    "import pandas as pd\n",
    "result_df = pd.DataFrame(result)\n",
    "result_df = result_df.set_index(\"p_id\")\n",
    "result_df = result_df[list(set(result_df.columns) - {'p_id', 'scores_base', 'scores_pd', 'scores_model'})]\n",
    "\n",
    "data = (result_df.sum(0) / len(result_df)).to_dict()\n",
    "\n",
    "\n",
    "# Initialize empty dictionaries for 'base', 'pd', and 'model' data\n",
    "base_data = {'top1': None, 'top10': None, 'top50': None, 'top100': None}\n",
    "pd_data = {'top1': None, 'top10': None, 'top50': None, 'top100': None}\n",
    "model_data = {'top1': None, 'top10': None, 'top50': None, 'top100': None}\n",
    "\n",
    "# Organize the data according to 'base', 'pd', and 'model' categories\n",
    "for key, value in data.items():\n",
    "    if 'base' in key:\n",
    "        base_data[f\"top{key.split('_')[1]}\"] = value\n",
    "    elif 'pd' in key:\n",
    "        pd_data[f\"top{key.split('_')[1]}\"] = value\n",
    "    elif 'model' in key:\n",
    "        model_data[f\"top{key.split('_')[1]}\"] = value\n",
    "\n",
    "# Create a DataFrame with 'base', 'pd', and 'model' as rows and 'top1', 'top10', 'top50', 'top100' as columns\n",
    "df = pd.DataFrame([base_data, pd_data, model_data], index=['baseline', 'Pheno2Disease', 'LLM-based'])\n",
    "df.index.name = 'Method'\n",
    "\n",
    "# Display the DataFrame\n",
    "print(df)"
   ]
  },
  {
   "cell_type": "code",
   "execution_count": null,
   "metadata": {},
   "outputs": [],
   "source": [
    "'''\n",
    "               top1     top10     top50    top100\n",
    "Method                                               \n",
    "baseline       0.117647  0.486631  0.754011  0.871658\n",
    "Pheno2Disease  0.117647  0.427807  0.721925  0.834225\n",
    "LLM-based      0.219251  0.513369  0.855615  0.919786\n",
    "'''"
   ]
  },
  {
   "cell_type": "markdown",
   "metadata": {},
   "source": [
    "### case review"
   ]
  },
  {
   "cell_type": "code",
   "execution_count": null,
   "metadata": {},
   "outputs": [
    {
     "name": "stderr",
     "output_type": "stream",
     "text": [
      "/data/tyler_dev/working_dir/sym/SemanticSimilarity/calculator.py:102: UnicodeWarning: unsound encoding, assuming ISO-8859-1 (73% confidence)\n",
      "  self.hpo_ontology = pronto.Ontology(\n"
     ]
    }
   ],
   "source": [
    "# 증상 적은 케이스(1개): 정답 질병의 순위\n",
    "# 증상 많은 케이스 (극단적으로 많은): 정답 질병의 순위"
   ]
  },
  {
   "cell_type": "markdown",
   "metadata": {},
   "source": [
    "### failed samples"
   ]
  },
  {
   "cell_type": "code",
   "execution_count": null,
   "metadata": {},
   "outputs": [],
   "source": [
    "# failed sample에서 insight\n",
    "\n",
    "top_100_failed_samples = test_patients[fails[100]]\n",
    "top_100_success_samples = test_patients[ [i for i in range(len(test_patients)) if i not in fails[100]]]"
   ]
  },
  {
   "cell_type": "code",
   "execution_count": null,
   "metadata": {},
   "outputs": [],
   "source": [
    "num_fail_symps = []\n",
    "for p in top_100_failed_samples:\n",
    "    num_fail_symps.append(len(p.hpos))\n",
    "\n",
    "num_success_symps = []\n",
    "for p in top_100_success_samples:\n",
    "    num_success_symps.append(len(p.hpos))"
   ]
  },
  {
   "cell_type": "code",
   "execution_count": null,
   "metadata": {},
   "outputs": [
    {
     "data": {
      "image/png": "[encoded data removed]",
      "text/plain": [
       "<Figure size 1440x720 with 1 Axes>"
      ]
     },
     "metadata": {
      "needs_background": "light"
     },
     "output_type": "display_data"
    }
   ],
   "source": [
    "import matplotlib.pyplot as plt\n",
    "\n",
    "plt.figure(figsize=(20, 10))\n",
    "plt.hist(num_fail_symps, bins=50, alpha=0.3, density=True)\n",
    "plt.hist(num_success_symps, bins=50, alpha=0.3, density=True)\n",
    "plt.legend([\"fail\", \"success\"])\n",
    "plt.show()"
   ]
  },
  {
   "cell_type": "markdown",
   "metadata": {},
   "source": [
    "### att weight 분석"
   ]
  },
  {
   "cell_type": "code",
   "execution_count": null,
   "metadata": {},
   "outputs": [
    {
     "name": "stdout",
     "output_type": "stream",
     "text": [
      "Charcot-Marie-Tooth disease, type 4B2\n"
     ]
    },
    {
     "data": {
      "text/plain": [
       "[('Onion bulb formation', tensor(0.0672, device='cuda:0')),\n",
       " ('Hyporeflexia', tensor(0.0672, device='cuda:0')),\n",
       " ('Kyphoscoliosis', tensor(0.0671, device='cuda:0')),\n",
       " ('Areflexia', tensor(0.0670, device='cuda:0')),\n",
       " ('Decreased motor nerve conduction velocity',\n",
       "  tensor(0.0670, device='cuda:0')),\n",
       " ('Segmental peripheral demyelination/remyelination',\n",
       "  tensor(0.0668, device='cuda:0')),\n",
       " ('Pes cavus', tensor(0.0668, device='cuda:0')),\n",
       " ('Split hand', tensor(0.0667, device='cuda:0')),\n",
       " ('Difficulty walking', tensor(0.0665, device='cuda:0')),\n",
       " ('Talipes equinovarus', tensor(0.0665, device='cuda:0')),\n",
       " ('Steppage gait', tensor(0.0665, device='cuda:0')),\n",
       " ('Juvenile onset', tensor(0.0662, device='cuda:0')),\n",
       " ('Distal amyotrophy', tensor(0.0662, device='cuda:0')),\n",
       " ('Distal muscle weakness', tensor(0.0662, device='cuda:0')),\n",
       " ('Ulnar claw', tensor(0.0661, device='cuda:0'))]"
      ]
     },
     "execution_count": 60,
     "metadata": {},
     "output_type": "execute_result"
    }
   ],
   "source": [
    "# 주증상, 부증상 성공 사례 보이기\n",
    "idx= 8\n",
    "print(disease_data[idx].name)\n",
    "\n",
    "\n",
    "weights = get_att_weight(disease_data[idx])\n",
    "weights = torch.cat(weights)\n",
    "# layer, head, n\n",
    "## 참고: https://github.com/4pygmalion/LaRa/issues/2#issuecomment-1975012658\n",
    "weight_mean = weights.mean(0).mean(0).mean(0)\n",
    "\n",
    "combined = zip(list(disease_data[idx].hpos.name2hpo.keys()), weight_mean)\n",
    "sorted_combined = sorted(combined, key=lambda x: x[1], reverse=True)\n",
    "\n",
    "sorted_combined"
   ]
  },
  {
   "cell_type": "code",
   "execution_count": null,
   "metadata": {},
   "outputs": [
    {
     "data": {
      "image/png": "[encoded data removed]",
      "text/plain": [
       "<Figure size 2000x2000 with 32 Axes>"
      ]
     },
     "metadata": {},
     "output_type": "display_data"
    }
   ],
   "source": [
    "import seaborn as sns\n",
    "import matplotlib.pyplot as plt\n",
    "\n",
    "\n",
    "# layer별 att weight  \n",
    "\n",
    "N = 4 \n",
    "M = 8  \n",
    "\n",
    "plt.figure(figsize=(20, 20))\n",
    "\n",
    "for i in range(N * M):\n",
    "    plt.subplot(N, M, i + 1)\n",
    "    sns.heatmap(weights.cpu().mean(1)[i], square=True, cbar=False)  # Added square and removed color bar for better aesthetics\n",
    "    plt.xticks([])\n",
    "    plt.yticks([])\n",
    "\n",
    "plt.tight_layout()\n",
    "plt.show()"
   ]
  }
 ],
 "metadata": {
  "kernelspec": {
   "display_name": "MIL",
   "language": "python",
   "name": "python3"
  },
  "language_info": {
   "codemirror_mode": {
    "name": "ipython",
    "version": 3
   },
   "file_extension": ".py",
   "mimetype": "text/x-python",
   "name": "python",
   "nbconvert_exporter": "python",
   "pygments_lexer": "ipython3",
   "version": "3.10.13"
  },
  "orig_nbformat": 4
 },
 "nbformat": 4,
 "nbformat_minor": 2
}
