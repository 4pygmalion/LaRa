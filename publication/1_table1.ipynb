{
 "cells": [
  {
   "cell_type": "code",
   "execution_count": 3,
   "metadata": {},
   "outputs": [],
   "source": [
    "import os\n",
    "import sys\n",
    "NB_DIR = os.getcwd()\n",
    "ROOT_DIR = os.path.dirname(NB_DIR)\n",
    "\n",
    "sys.path.append(ROOT_DIR)"
   ]
  },
  {
   "cell_type": "code",
   "execution_count": 11,
   "metadata": {},
   "outputs": [
    {
     "name": "stderr",
     "output_type": "stream",
     "text": [
      "100%|██████████| 14540/14540 [05:00<00:00, 48.33it/s]\n"
     ]
    }
   ],
   "source": [
    "import tqdm\n",
    "import pandas as pd\n",
    "from core.io_ops import load_pickle\n",
    "from ontology_src import ARTIFACT_PATH\n",
    "from core_3asc.dynamodb_ops import DynamoDBClient\n",
    "\n",
    "patients = load_pickle(ARTIFACT_PATH[\"patients\"])\n",
    "\n",
    "client = DynamoDBClient(\"../data/keyfile.yaml\")\n",
    "\n",
    "rows = list()\n",
    "onset_order = {\n",
    "    'Antenatal':0 , \n",
    "    'Neonatal': 1, \n",
    "    'Infancy': 2,\n",
    "    'Childhood': 3,\n",
    "    \"Adolescent\": 4,\n",
    "    'Adult': 5, \n",
    "    'Elderly': 6, \n",
    "    'Unknown': 7\n",
    "}\n",
    "idx2onset = {i:onset for i, onset in enumerate(onset_order)}\n",
    "for patient in tqdm.tqdm(patients):\n",
    "    demographics = client.get_clinical_info(patient.id)\n",
    "\n",
    "    # Onset\n",
    "    onset_idx = min([onset_order.get(tup[2], 7) for tup in demographics[\"symptoms\"]])\n",
    "\n",
    "    # N hpo\n",
    "    n_hpo = len(patient.hpos)\n",
    "\n",
    "    # Gender\n",
    "    gender = demographics[\"gender\"]\n",
    "    \n",
    "    rows.append([patient.id, n_hpo, gender, idx2onset[onset_idx]])\n",
    "\n",
    "df = pd.DataFrame(rows, columns=[\"id\", \"n_hpos\", \"gender\", \"onset\"])"
   ]
  },
  {
   "cell_type": "code",
   "execution_count": 31,
   "metadata": {},
   "outputs": [
    {
     "data": {
      "text/html": [
       "<div>\n",
       "<style scoped>\n",
       "    .dataframe tbody tr th:only-of-type {\n",
       "        vertical-align: middle;\n",
       "    }\n",
       "\n",
       "    .dataframe tbody tr th {\n",
       "        vertical-align: top;\n",
       "    }\n",
       "\n",
       "    .dataframe thead th {\n",
       "        text-align: right;\n",
       "    }\n",
       "</style>\n",
       "<table border=\"1\" class=\"dataframe\">\n",
       "  <thead>\n",
       "    <tr style=\"text-align: right;\">\n",
       "      <th></th>\n",
       "      <th></th>\n",
       "      <th>Overall</th>\n",
       "    </tr>\n",
       "  </thead>\n",
       "  <tbody>\n",
       "    <tr>\n",
       "      <th>n</th>\n",
       "      <th></th>\n",
       "      <td>14518</td>\n",
       "    </tr>\n",
       "    <tr>\n",
       "      <th>n_hpos, mean (SD)</th>\n",
       "      <th></th>\n",
       "      <td>3.961 (4.358)</td>\n",
       "    </tr>\n",
       "    <tr>\n",
       "      <th rowspan=\"2\" valign=\"top\">gender, n (%)</th>\n",
       "      <th>female</th>\n",
       "      <td>6463 (44.517)</td>\n",
       "    </tr>\n",
       "    <tr>\n",
       "      <th>male</th>\n",
       "      <td>8055 (55.483)</td>\n",
       "    </tr>\n",
       "    <tr>\n",
       "      <th rowspan=\"8\" valign=\"top\">onset, n (%)</th>\n",
       "      <th>Adolescent</th>\n",
       "      <td>617 (4.250)</td>\n",
       "    </tr>\n",
       "    <tr>\n",
       "      <th>Adult</th>\n",
       "      <td>2316 (15.953)</td>\n",
       "    </tr>\n",
       "    <tr>\n",
       "      <th>Antenatal</th>\n",
       "      <td>676 (4.656)</td>\n",
       "    </tr>\n",
       "    <tr>\n",
       "      <th>Childhood</th>\n",
       "      <td>2605 (17.943)</td>\n",
       "    </tr>\n",
       "    <tr>\n",
       "      <th>Elderly</th>\n",
       "      <td>33 (0.227)</td>\n",
       "    </tr>\n",
       "    <tr>\n",
       "      <th>Infancy</th>\n",
       "      <td>3010 (20.733)</td>\n",
       "    </tr>\n",
       "    <tr>\n",
       "      <th>Neonatal</th>\n",
       "      <td>3380 (23.281)</td>\n",
       "    </tr>\n",
       "    <tr>\n",
       "      <th>Unknown</th>\n",
       "      <td>1881 (12.956)</td>\n",
       "    </tr>\n",
       "  </tbody>\n",
       "</table>\n",
       "</div><br />"
      ],
      "text/plain": [
       "                                    Overall\n",
       "n                                     14518\n",
       "n_hpos, mean (SD)             3.961 (4.358)\n",
       "gender, n (%)     female      6463 (44.517)\n",
       "                  male        8055 (55.483)\n",
       "onset, n (%)      Adolescent    617 (4.250)\n",
       "                  Adult       2316 (15.953)\n",
       "                  Antenatal     676 (4.656)\n",
       "                  Childhood   2605 (17.943)\n",
       "                  Elderly        33 (0.227)\n",
       "                  Infancy     3010 (20.733)\n",
       "                  Neonatal    3380 (23.281)\n",
       "                  Unknown     1881 (12.956)"
      ]
     },
     "execution_count": 31,
     "metadata": {},
     "output_type": "execute_result"
    }
   ],
   "source": [
    "from tableone import TableOne\n",
    "\n",
    "exclude_ids = set(df.loc[\n",
    "    (df[\"gender\"] == \"\") | (df[\"gender\"] == \"?\"), \"id\"\n",
    "].tolist())\n",
    "df = df.loc[~df[\"id\"].isin(exclude_ids)]\n",
    "\n",
    "table1 = TableOne(\n",
    "    df,\n",
    "    columns=[\"n_hpos\", \"gender\", \"onset\"],\n",
    "    missing=False,\n",
    "    categorical=[\"gender\", \"onset\"],\n",
    "    decimals=3,\n",
    ")\n",
    "table1"
   ]
  },
  {
   "cell_type": "code",
   "execution_count": 83,
   "metadata": {},
   "outputs": [
    {
     "name": "stderr",
     "output_type": "stream",
     "text": [
      "/tmp/ipykernel_39703/813727413.py:7: UnicodeWarning: unsound encoding, assuming ISO-8859-1 (73% confidence)\n",
      "  ontology = Ontology(\"https://github.com/obophenotype/human-phenotype-ontology/releases/download/v2023-10-09/hp.owl\")\n"
     ]
    }
   ],
   "source": [
    "from pronto import Ontology\n",
    "import warnings\n",
    "import pronto\n",
    "from collections import defaultdict\n",
    "warnings.filterwarnings(\"ignore\", category=pronto.warnings.ProntoWarning)\n",
    "\n",
    "ontology = Ontology(\"https://github.com/obophenotype/human-phenotype-ontology/releases/download/v2023-10-09/hp.owl\")\n",
    "categories = set(ontology[\"HP:0000118\"].subclasses(distance=1, with_self=False).to_set().ids)\n",
    "\n",
    "# count frequency of each pheno group in dataset\n",
    "top5categories = {'HP:0000152', 'HP:0000478', 'HP:0000707', 'HP:0001626', 'HP:0033127'}\n",
    "\n",
    "res = defaultdict(int)\n",
    "for patient in patients:\n",
    "    supersets = set()\n",
    "    for hpo in  patient.hpos:\n",
    "        superclass_set = ontology[hpo.id].superclasses().to_set().ids\n",
    "        supersets |= superclass_set\n",
    "    \n",
    "    patient_cateogries = supersets & categories\n",
    "    include_others = False\n",
    "    for category in patient_cateogries:\n",
    "        if category not in top5categories:\n",
    "            if include_others:\n",
    "                continue\n",
    "        \n",
    "            res[\"others\"] +=1\n",
    "            include_others = True\n",
    "            \n",
    "        else:\n",
    "            res[category] += 1"
   ]
  },
  {
   "cell_type": "code",
   "execution_count": 104,
   "metadata": {},
   "outputs": [],
   "source": [
    "df = pd.DataFrame.from_dict([res]).T\n",
    "df.columns = [\"count\"]"
   ]
  },
  {
   "cell_type": "code",
   "execution_count": 106,
   "metadata": {},
   "outputs": [
    {
     "data": {
      "text/plain": [
       "HP:0000707    0.461898\n",
       "HP:0033127    0.339821\n",
       "HP:0001626    0.185282\n",
       "others        0.592366\n",
       "HP:0000152    0.237208\n",
       "HP:0000478    0.252201\n",
       "Name: count, dtype: float64"
      ]
     },
     "execution_count": 106,
     "metadata": {},
     "output_type": "execute_result"
    }
   ],
   "source": [
    "df[\"count\"] / len(patients)"
   ]
  }
 ],
 "metadata": {
  "kernelspec": {
   "display_name": "symptom",
   "language": "python",
   "name": "python3"
  },
  "language_info": {
   "codemirror_mode": {
    "name": "ipython",
    "version": 3
   },
   "file_extension": ".py",
   "mimetype": "text/x-python",
   "name": "python",
   "nbconvert_exporter": "python",
   "pygments_lexer": "ipython3",
   "version": "3.8.18"
  }
 },
 "nbformat": 4,
 "nbformat_minor": 2
}
