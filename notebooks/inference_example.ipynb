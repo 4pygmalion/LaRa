{
 "cells": [
  {
   "cell_type": "code",
   "execution_count": 2,
   "metadata": {},
   "outputs": [],
   "source": [
    "import os\n",
    "import sys\n",
    "import torch\n",
    "\n",
    "ROOT_DIR = \"/data/tyler_dev/working_dir/sym/symptom_similarity\"\n",
    "DATA_DIR = os.path.join(ROOT_DIR, \"data\")\n",
    "sys.path.append(ROOT_DIR)\n",
    "\n",
    "# load model\n",
    "from core.networks import Transformer\n",
    "\n",
    "params = {\n",
    "    \"output_size\": 128,\n",
    "    \"hidden_dim\": 2048,\n",
    "    \"input_size\": 1536,\n",
    "    \"n_layers\": 32,\n",
    "    \"nhead\": 32,\n",
    "    \"batch_first\": False,\n",
    "}\n",
    "best_model = Transformer(**params)\n",
    "best_model.load_state_dict(\n",
    "    torch.load(\n",
    "        DATA_DIR + \"/81fcf4f39e57422db4debfeac61b01f0/val_top100_0.584.ckpt\"\n",
    "    )\n",
    ")\n",
    "best_model.eval()\n",
    "best_model = best_model.cuda()"
   ]
  },
  {
   "cell_type": "code",
   "execution_count": 3,
   "metadata": {},
   "outputs": [],
   "source": [
    "from core.augmentation import (\n",
    "    TruncateOrPad,\n",
    ")\n",
    "\n",
    "# sequence padder\n",
    "padder = TruncateOrPad(\n",
    "            15, stochastic=False, weighted_sampling=True\n",
    "        )\n",
    "# define inference function\n",
    "def get_score_from_model(patient, disease):\n",
    "    with torch.no_grad():\n",
    "        input_src = padder(\n",
    "            torch.tensor(patient.hpos.vector, dtype=torch.float32, device=\"cuda:0\"), patient\n",
    "        )\n",
    "        target_src = padder(\n",
    "            torch.tensor(disease.hpos.vector, dtype=torch.float32, device=\"cuda:0\"), disease\n",
    "        )\n",
    "\n",
    "        input_vector = best_model(input_src)\n",
    "        target_vector = best_model(target_src)\n",
    "        scores = (\n",
    "            torch.nn.functional.cosine_similarity(\n",
    "                input_vector, target_vector\n",
    "            )\n",
    "            .squeeze(-1)\n",
    "            .detach()\n",
    "            .cpu()\n",
    "            .numpy()\n",
    "        )\n",
    "        return scores"
   ]
  },
  {
   "cell_type": "code",
   "execution_count": 5,
   "metadata": {},
   "outputs": [],
   "source": [
    "from core.io_ops import load_pickle\n",
    "\n",
    "disease_data = load_pickle(os.path.join(DATA_DIR, \"diseases.pickle\"))\n",
    "patient_data = load_pickle(os.path.join(DATA_DIR, \"patients.pickle\"))"
   ]
  },
  {
   "cell_type": "code",
   "execution_count": 19,
   "metadata": {},
   "outputs": [
    {
     "data": {
      "text/plain": [
       "Patient(id=EPJ22-HCGX, hpos=HP:0012642,HP:0001650,HP:0012494,HP:0100817, disease_id=OMIM:607151)"
      ]
     },
     "execution_count": 19,
     "metadata": {},
     "output_type": "execute_result"
    }
   ],
   "source": [
    "patient_data[1000]"
   ]
  },
  {
   "cell_type": "code",
   "execution_count": 33,
   "metadata": {},
   "outputs": [
    {
     "data": {
      "text/plain": [
       "Disease(id='OMIM:607151', name='Moyamoya disease 2, susceptibility to', hpos=HPOs(N HPO=5), clinical_synopsis=ClinicalSynopsis(names={'Transient ischemic attacks (TIA)', 'Internal carotid artery stenosis/occlusion', 'Headache', 'Autosomal recessive', 'Susceptibility conferred by mutation in the ring finger protein 213 gene (RNF213,', 'Seizures', 'Autosomal dominant', 'Thu, 16 Jul 2020 00:00:00 UTC', 'Intraventricular hemorrhage', 'Hemiparesis', 'Posterior cerebral artery stenosis/occlusion', 'Development of moyamoya collaterals', 'Intracranial hemorrhage', 'Middle cerebral artery stenosis/occlusion', 'Moyamoya disease', 'Visual defects', 'Intellectual impairment', 'Anterior cerebral artery stenosis/occlusion', 'Highest prevalence in East Asian countries', 'Occurs worldwide;', 'Ischemic stroke (childhood)', 'Wed, 07 Oct 2020 00:00:00 UTC'}, vector=array([-0.01448052,  0.01769544,  0.02337512, ..., -0.00306422,\n",
       "       -0.01872689, -0.02514333])))"
      ]
     },
     "execution_count": 33,
     "metadata": {},
     "output_type": "execute_result"
    }
   ],
   "source": [
    "disease_data[\"OMIM:607151\"]"
   ]
  },
  {
   "cell_type": "code",
   "execution_count": 47,
   "metadata": {},
   "outputs": [
    {
     "data": {
      "text/plain": [
       "Disease(id='OMIM:617667', name='Fraser syndrome 3', hpos=HPOs(N HPO=23), clinical_synopsis=ClinicalSynopsis(names={'Hyperechogenic lungs seen on prenatal ultrasound', 'Broad nose', 'Abnormal frontal hairline', 'Autosomal recessive', 'Abnormal anterior chamber', 'Pulmonary hyperplasia', 'Short toes', 'Caused by mutation in the glutamate receptor-interacting protein 1 gene (GRIP1,', 'Based on a report of 2 stillborn male fetuses (last curated September 2017)', 'Hypoplastic bladder', 'Hypoplastic scrotum', 'Wed, 13 Sep 2017 00:00:00 UTC', 'Cryptophthalmos, bilateral', 'Absent kidneys', 'Hypoplastic penis', 'Tue, 25 Aug 2020 00:00:00 UTC', 'Tracheal atresia', 'Cutaneous syndactyly, partial bilateral', 'Malformed larynx', 'Abnormal lung lobation', 'Malformed penis', 'Micrognathia', 'Short fingers', 'Beaked nose', 'Notched alae nasi', 'Abnormally positioned anus', 'Hydrops fetalis', 'Normal retinal pigment epithelium', 'Low-set simple ears'}, vector=array([-0.02173538,  0.01032189,  0.01329271, ..., -0.01886128,\n",
       "       -0.00790377, -0.01066733])))"
      ]
     },
     "execution_count": 47,
     "metadata": {},
     "output_type": "execute_result"
    }
   ],
   "source": [
    "disease_data[100]"
   ]
  },
  {
   "cell_type": "code",
   "execution_count": 46,
   "metadata": {},
   "outputs": [
    {
     "name": "stderr",
     "output_type": "stream",
     "text": [
      "/data/tyler_dev/working_dir/sym/symptom_similarity/core/data_model.py:294: UnicodeWarning: unsound encoding, assuming ISO-8859-1 (73% confidence)\n",
      "  ontology = pronto.Ontology(SORUCE_URL[\"hpo_obo\"])\n"
     ]
    },
    {
     "name": "stdout",
     "output_type": "stream",
     "text": [
      "sym bt patient and confirmd: 0.7595720291137695\n",
      "sym bt patient and random: -0.14743348956108093\n"
     ]
    }
   ],
   "source": [
    "from core.data_model import Patient, Disease, Ontology\n",
    "\n",
    "# load ontology\n",
    "ectorized_hpo = load_pickle(DATA_DIR + \"/hpo_definition.vector.pickle\")\n",
    "ontology = Ontology(ectorized_hpo)\n",
    "\n",
    "\n",
    "# patient and disease example\n",
    "'''\n",
    "id: EPJ22-HCGX\n",
    "symptom hpos: HP:0012642,HP:0001650,HP:0012494,HP:0100817\n",
    "\n",
    "confirmed disease_id: OMIM:607151(MOYAMOYA DISEASE 2; MYMY2)\n",
    "\n",
    "random_disease_id: OMIM:617667(FRASER SYNDROME 3; FRASRS3)\n",
    "'''\n",
    "\n",
    "patient_hpos = ontology([\"HP:0012642\",\"HP:0001650\",\"HP:0012494\",\"HP:0100817\"])\n",
    "confirmed_disease_hpos = ontology(['HP:0000007', 'HP:0011834', 'HP:0002326', 'HP:0000006'])\n",
    "random_disease_hpos = ontology(['HP:0001562', 'HP:0010958', 'HP:0000046', 'HP:0002101', \\\n",
    "                                'HP:0001541', 'HP:0005343', 'HP:0001790', 'HP:0012725', \\\n",
    "                                    'HP:0034217', 'HP:0100682', 'HP:0012300', 'HP:0034198',\\\n",
    "                                          'HP:0003826', 'HP:0000007', 'HP:0000238', 'HP:0000444', \\\n",
    "                                            'HP:0001126', 'HP:0008736', 'HP:0000369', 'HP:0000347',\\\n",
    "                                                  'HP:0020206', 'HP:0001831', 'HP:0000445'])\n",
    "\n",
    "# get similarities\n",
    "p_data = Patient(\"EPJ22-HCGX\", patient_hpos, {})\n",
    "confirmed_d_data = Disease(\"OMIM:607151\", \"MOYAMOYA DISEASE 2\", confirmed_disease_hpos)\n",
    "random_d_data = Disease(\"OMIM:219000\", \"FRASER SYNDROME 3\", random_disease_hpos)\n",
    "\n",
    "print(f\"sym bt patient and confirmd: {get_score_from_model(p_data, confirmed_d_data)}\")\n",
    "print(f\"sym bt patient and random: {get_score_from_model(p_data, random_d_data)}\")"
   ]
  }
 ],
 "metadata": {
  "kernelspec": {
   "display_name": "sym_sim_gu",
   "language": "python",
   "name": "python3"
  },
  "language_info": {
   "codemirror_mode": {
    "name": "ipython",
    "version": 3
   },
   "file_extension": ".py",
   "mimetype": "text/x-python",
   "name": "python",
   "nbconvert_exporter": "python",
   "pygments_lexer": "ipython3",
   "version": "3.10.13"
  },
  "orig_nbformat": 4
 },
 "nbformat": 4,
 "nbformat_minor": 2
}
